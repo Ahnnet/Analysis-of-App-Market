{
 "cells": [
  {
   "cell_type": "code",
   "execution_count": 10,
   "id": "c5fe2b58",
   "metadata": {},
   "outputs": [],
   "source": [
    "import numpy as np # linear algebra\n",
    "import pandas as pd # data processing, CSV file I/O (e.g. pd.read_csv)\n",
    "\n",
    "\n",
    "import pandas as pd\n",
    "import matplotlib.pyplot as plt\n",
    "import numpy as np\n",
    "import seaborn as sns\n",
    "import warnings\n",
    "warnings.filterwarnings('ignore')\n",
    "from sklearn.preprocessing import MinMaxScaler,StandardScaler, LabelEncoder\n",
    "\n",
    "from sklearn.model_selection import train_test_split\n",
    "from sklearn.linear_model import LinearRegression\n",
    "from sklearn.preprocessing import PolynomialFeatures\n",
    "from sklearn.cluster import KMeans\n",
    "from sklearn.ensemble import RandomForestClassifier,GradientBoostingClassifier, RandomForestRegressor\n",
    "from sklearn.linear_model import LogisticRegression\n",
    "from sklearn.metrics import accuracy_score,confusion_matrix,ConfusionMatrixDisplay,classification_report"
   ]
  },
  {
   "cell_type": "code",
   "execution_count": 11,
   "id": "d49ee35b",
   "metadata": {},
   "outputs": [
    {
     "name": "stdout",
     "output_type": "stream",
     "text": [
      "                                                 App Name  \\\n",
      "128037                      Burn it Down Piano Cover Song   \n",
      "491755                                       أنعام الوسطى   \n",
      "491263                          Block Puzzle Ultimate Fun   \n",
      "836489  Learning Professions and Occupations for Toddlers   \n",
      "73349                                            Finutive   \n",
      "\n",
      "                                      App Id       Category  Rating  \\\n",
      "128037                 com.just.BurnitLinkin  Entertainment     0.0   \n",
      "491755                    com.anaamw.anaamap   Food & Drink     4.3   \n",
      "491263  com.namoideas.blockpuzzleultimatefun         Puzzle     0.0   \n",
      "836489                       com.gokids.prof    Educational     3.7   \n",
      "73349                       com.finutive.app       Business     4.3   \n",
      "\n",
      "        Rating Count  Installs  Minimum Installs  Maximum Installs  Free  \\\n",
      "128037           0.0       10+              10.0                22  True   \n",
      "491755           9.0    1,000+            1000.0              1086  True   \n",
      "491263           0.0       50+              50.0                95  True   \n",
      "836489         943.0  500,000+          500000.0            622301  True   \n",
      "73349            6.0      100+             100.0               423  True   \n",
      "\n",
      "        Price  ...                      Developer Website  \\\n",
      "128037    0.0  ...                                    NaN   \n",
      "491755    0.0  ...                https://www.anaamw.com/   \n",
      "491263    0.0  ...                                    NaN   \n",
      "836489    0.0  ...  https://www.facebook.com/GoKidsMobile   \n",
      "73349     0.0  ...                   https://finutive.com   \n",
      "\n",
      "                        Developer Email      Released  Last Updated  \\\n",
      "128037  nferreiradevelopments@gmail.com   Feb 9, 2019  Feb 09, 2019   \n",
      "491755                  info@anaamw.com  Dec 28, 2019  Sep 01, 2020   \n",
      "491263              namoideas@gmail.com  Apr 12, 2019  Jul 29, 2019   \n",
      "836489    toplinesolutionsltd@gmail.com   Oct 7, 2016  Aug 12, 2020   \n",
      "73349             gestoria@finutive.com           NaN  Jun 09, 2021   \n",
      "\n",
      "       Content Rating                                     Privacy Policy  \\\n",
      "128037       Everyone           https://unity3d.com/legal/privacy-policy   \n",
      "491755       Everyone      https://www.anaamw.com/frontend/ourpolicy.php   \n",
      "491263       Everyone  https://namoideasprivacypolicy.blogspot.com/20...   \n",
      "836489       Everyone                 http://gokidsmobile.com/policy.php   \n",
      "73349        Everyone  https://drive.google.com/drive/u/0/folders/14U...   \n",
      "\n",
      "       Ad Supported In App Purchases Editors Choice         Scraped Time  \n",
      "128037         True            False          False  2021-06-15 22:25:25  \n",
      "491755        False            False          False  2021-06-16 04:27:54  \n",
      "491263         True             True          False  2021-06-16 04:27:24  \n",
      "836489         True             True          False  2021-06-16 09:46:26  \n",
      "73349         False            False          False  2021-06-15 21:32:11  \n",
      "\n",
      "[5 rows x 24 columns]\n"
     ]
    }
   ],
   "source": [
    "df = pd.read_csv(\"E:\\VScodeWorkSheet\\datasets\\Google-Playstore.csv\")\n",
    "df=df.sample(frac=0.01,replace=True,random_state=1)\n",
    "print(df.head())"
   ]
  },
  {
   "cell_type": "code",
   "execution_count": 12,
   "id": "54b1035a",
   "metadata": {},
   "outputs": [
    {
     "name": "stdout",
     "output_type": "stream",
     "text": [
      "Index(['AppName', 'AppId', 'Category', 'Rating', 'RatingCount', 'Installs',\n",
      "       'MinimumInstalls', 'MaximumInstalls', 'Free', 'Price', 'Currency',\n",
      "       'Size', 'MinimumAndroid', 'DeveloperId', 'DeveloperWebsite',\n",
      "       'DeveloperEmail', 'Released', 'LastUpdated', 'ContentRating',\n",
      "       'PrivacyPolicy', 'AdSupported', 'InAppPurchases', 'EditorsChoice',\n",
      "       'ScrapedTime'],\n",
      "      dtype='object')\n"
     ]
    }
   ],
   "source": [
    "for col in df.columns:\n",
    "    col1 = col.replace(' ','')\n",
    "    df = df.rename(columns={col:col1})\n",
    "print(df.columns)"
   ]
  },
  {
   "cell_type": "code",
   "execution_count": 13,
   "id": "914e63eb",
   "metadata": {},
   "outputs": [
    {
     "name": "stdout",
     "output_type": "stream",
     "text": [
      "Dropping the following columns - AppId, DeveloperWebsite, DeveloperEmail, PrivacyPolicy, Currency, DeveloperId, ScrapedTime, MinimumAndroid\n",
      "                                                  AppName       Category  \\\n",
      "128037                      Burn it Down Piano Cover Song  Entertainment   \n",
      "491755                                       أنعام الوسطى   Food & Drink   \n",
      "491263                          Block Puzzle Ultimate Fun         Puzzle   \n",
      "836489  Learning Professions and Occupations for Toddlers    Educational   \n",
      "73349                                            Finutive       Business   \n",
      "\n",
      "        Rating  RatingCount  Installs  MinimumInstalls  MaximumInstalls  Free  \\\n",
      "128037     0.0          0.0       10+             10.0               22  True   \n",
      "491755     4.3          9.0    1,000+           1000.0             1086  True   \n",
      "491263     0.0          0.0       50+             50.0               95  True   \n",
      "836489     3.7        943.0  500,000+         500000.0           622301  True   \n",
      "73349      4.3          6.0      100+            100.0              423  True   \n",
      "\n",
      "        Price  Size      Released   LastUpdated ContentRating  AdSupported  \\\n",
      "128037    0.0   32M   Feb 9, 2019  Feb 09, 2019      Everyone         True   \n",
      "491755    0.0   16M  Dec 28, 2019  Sep 01, 2020      Everyone        False   \n",
      "491263    0.0   13M  Apr 12, 2019  Jul 29, 2019      Everyone         True   \n",
      "836489    0.0   14M   Oct 7, 2016  Aug 12, 2020      Everyone         True   \n",
      "73349     0.0  2.1M           NaN  Jun 09, 2021      Everyone        False   \n",
      "\n",
      "        InAppPurchases  EditorsChoice  \n",
      "128037           False          False  \n",
      "491755           False          False  \n",
      "491263            True          False  \n",
      "836489            True          False  \n",
      "73349            False          False  \n"
     ]
    }
   ],
   "source": [
    "print(\"Dropping the following columns - AppId, DeveloperWebsite, DeveloperEmail, PrivacyPolicy, Currency, DeveloperId, ScrapedTime, MinimumAndroid\")\n",
    "df = df.drop(['AppId','DeveloperWebsite','DeveloperEmail','PrivacyPolicy','Currency','DeveloperId','ScrapedTime','MinimumAndroid'],axis=1)\n",
    "print(df.head())"
   ]
  },
  {
   "cell_type": "code",
   "execution_count": 14,
   "id": "ca161a5d",
   "metadata": {},
   "outputs": [
    {
     "name": "stdout",
     "output_type": "stream",
     "text": [
      "<class 'pandas.core.frame.DataFrame'>\n",
      "Int64Index: 23129 entries, 128037 to 1416881\n",
      "Data columns (total 16 columns):\n",
      " #   Column           Non-Null Count  Dtype  \n",
      "---  ------           --------------  -----  \n",
      " 0   AppName          23129 non-null  object \n",
      " 1   Category         23129 non-null  object \n",
      " 2   Rating           22904 non-null  float64\n",
      " 3   RatingCount      22904 non-null  float64\n",
      " 4   Installs         23129 non-null  object \n",
      " 5   MinimumInstalls  23129 non-null  float64\n",
      " 6   MaximumInstalls  23129 non-null  int64  \n",
      " 7   Free             23129 non-null  bool   \n",
      " 8   Price            23129 non-null  float64\n",
      " 9   Size             23128 non-null  object \n",
      " 10  Released         22467 non-null  object \n",
      " 11  LastUpdated      23129 non-null  object \n",
      " 12  ContentRating    23129 non-null  object \n",
      " 13  AdSupported      23129 non-null  bool   \n",
      " 14  InAppPurchases   23129 non-null  bool   \n",
      " 15  EditorsChoice    23129 non-null  bool   \n",
      "dtypes: bool(4), float64(4), int64(1), object(7)\n",
      "memory usage: 2.4+ MB\n",
      "Dataset information None\n"
     ]
    }
   ],
   "source": [
    "print(\"Dataset information\",df.info())"
   ]
  },
  {
   "cell_type": "code",
   "execution_count": 15,
   "id": "8e39caa0",
   "metadata": {},
   "outputs": [
    {
     "name": "stdout",
     "output_type": "stream",
     "text": [
      "Columns having null values are : ['Rating', 'RatingCount', 'Size', 'Released']\n"
     ]
    }
   ],
   "source": [
    "cols = df.columns[df.isnull().any()].to_list()\n",
    "print(\"Columns having null values are :\",cols)"
   ]
  },
  {
   "cell_type": "code",
   "execution_count": 16,
   "id": "c890403d",
   "metadata": {},
   "outputs": [
    {
     "name": "stdout",
     "output_type": "stream",
     "text": [
      "Rating <class 'str'> :  225\n",
      "RatingCount <class 'str'> :  225\n",
      "Size <class 'str'> :  1\n",
      "Released <class 'str'> :  662\n"
     ]
    }
   ],
   "source": [
    "for c in cols:\n",
    "    print(c,type(c),\": \",df[c].isnull().sum())"
   ]
  },
  {
   "cell_type": "code",
   "execution_count": 17,
   "id": "8da1cb53",
   "metadata": {},
   "outputs": [],
   "source": [
    "df.dropna(subset=['Size','MinimumInstalls','Installs','AppName'],inplace=True)\n",
    "df.dropna(subset=['AppName'],inplace=True)"
   ]
  },
  {
   "cell_type": "code",
   "execution_count": 18,
   "id": "4d9d95fd",
   "metadata": {},
   "outputs": [
    {
     "name": "stdout",
     "output_type": "stream",
     "text": [
      "Everyone           20203\n",
      "Teen                1947\n",
      "Mature 17+           621\n",
      "Everyone 10+         354\n",
      "Adults only 18+        2\n",
      "Unrated                1\n",
      "Name: ContentRating, dtype: int64\n"
     ]
    }
   ],
   "source": [
    "df['Rating']  = df['Rating'].astype(float)\n",
    "avg = round(df['Rating'].mean(),1)\n",
    "df['Rating'].fillna(avg,inplace=True)\n",
    "\n",
    "df['RatingCount']  = df['RatingCount'].astype(float)\n",
    "avg = round(df['RatingCount'].mean(),1)\n",
    "df['RatingCount'].fillna(avg,inplace=True)\n",
    "\n",
    "print(df['ContentRating'].value_counts())"
   ]
  },
  {
   "cell_type": "code",
   "execution_count": 19,
   "id": "d2a699cc",
   "metadata": {},
   "outputs": [],
   "source": [
    "df['ContentRating'] = df['ContentRating'].replace('Unrated',\"Everyone\")\n",
    "\n",
    "#Cleaning other values just to include Everyone, Teens and Adult \n",
    "\n",
    "df['ContentRating'] = df['ContentRating'].replace('Mature 17+',\"Adults\")\n",
    "df['ContentRating'] = df['ContentRating'].replace('Adults only 18+',\"Adults\")\n",
    "df['ContentRating'] = df['ContentRating'].replace('Everyone 10+',\"Everyone\")"
   ]
  },
  {
   "cell_type": "code",
   "execution_count": 20,
   "id": "42c29d35",
   "metadata": {},
   "outputs": [],
   "source": [
    "df.Installs = df.Installs.str.replace(',','')\n",
    "df.Installs = df.Installs.str.replace('+','')\n",
    "df.Installs = df.Installs.str.replace('Free','0')\n",
    "df['Installs'] = pd.to_numeric(df['Installs'])\n",
    "df['Installs'] = df['Installs'].astype(float)"
   ]
  },
  {
   "cell_type": "code",
   "execution_count": 21,
   "id": "fa597177",
   "metadata": {},
   "outputs": [
    {
     "name": "stdout",
     "output_type": "stream",
     "text": [
      "Free    22678\n",
      "Low       430\n",
      "Mid        15\n",
      "High        5\n",
      "Name: PriceRange, dtype: int64\n"
     ]
    }
   ],
   "source": [
    "df['PriceRange'] = pd.cut(df['Price'],bins=[0,0.19,9.99,29.99,410],labels=['Free','Low','Mid','High'],include_lowest=True)\n",
    "print(df['PriceRange'].value_counts())"
   ]
  },
  {
   "cell_type": "code",
   "execution_count": 22,
   "id": "59165fe5",
   "metadata": {},
   "outputs": [
    {
     "name": "stdout",
     "output_type": "stream",
     "text": [
      "True     22677\n",
      "False      451\n",
      "Name: Free, dtype: int64\n",
      "Apps that have Price = 0, have Free column True\n",
      "True     22678\n",
      "False      450\n",
      "Name: Free, dtype: int64\n"
     ]
    }
   ],
   "source": [
    "print(df.Free.value_counts())\n",
    "print(\"Apps that have Price = 0, have Free column True\")\n",
    "df.loc[(df.Price==0) & (df.Free==False),'Free'] = True\n",
    "print(df.Free.value_counts())\n",
    "\n",
    "df['Type'] = np.where(df['Free'] == True,'Free','Paid')\n",
    "df.drop(['Free'],inplace=True,axis=1)"
   ]
  },
  {
   "cell_type": "code",
   "execution_count": 23,
   "id": "db45eedc",
   "metadata": {},
   "outputs": [
    {
     "name": "stdout",
     "output_type": "stream",
     "text": [
      "Less than 10K           12222\n",
      "NoRating                10557\n",
      "Between 10K and 500K      328\n",
      "More than 500K             21\n",
      "Name: RatingType, dtype: int64\n",
      "Less than 10K           20443\n",
      "Between 10K and 500K     2132\n",
      "More than 500K            454\n",
      "NoInstalls                 99\n",
      "Name: InstallRange, dtype: int64\n"
     ]
    }
   ],
   "source": [
    "df['RatingType'] = 'NoRating'\n",
    "df.loc[(df['RatingCount'] > 0) & (df['RatingCount'] <= 10000.0),'RatingType'] = 'Less than 10K'\n",
    "df.loc[(df['RatingCount'] > 10000) & (df['RatingCount'] <= 500000.0),'RatingType'] = 'Between 10K and 500K'\n",
    "df.loc[(df['RatingCount'] > 500000) & (df['RatingCount'] <= 138557570.0),'RatingType'] = 'More than 500K'\n",
    "print(df.RatingType.value_counts())\n",
    "\n",
    "\n",
    "df['InstallRange'] = 'NoInstalls'\n",
    "df.loc[(df['Installs'] > 0) & (df['Installs'] <= 10000.0),'InstallRange'] = 'Less than 10K'\n",
    "df.loc[(df['Installs'] > 10000) & (df['Installs'] <= 500000.0),'InstallRange'] = 'Between 10K and 500K'\n",
    "df.loc[(df['Installs'] > 500000) & (df['Installs'] <= 138557570.0),'InstallRange'] = 'More than 500K'\n",
    "print(df.InstallRange.value_counts())"
   ]
  },
  {
   "cell_type": "code",
   "execution_count": 24,
   "id": "1f55fa1a",
   "metadata": {},
   "outputs": [
    {
     "name": "stdout",
     "output_type": "stream",
     "text": [
      "                                                   AppName  Category  Rating  \\\n",
      "128037                       Burn it Down Piano Cover Song        17     0.0   \n",
      "491755                                        أنعام الوسطى        20     4.3   \n",
      "491263                           Block Puzzle Ultimate Fun        34     0.0   \n",
      "836489   Learning Professions and Occupations for Toddlers        16     3.7   \n",
      "73349                                             Finutive         8     4.3   \n",
      "1166159                   St. Thomas of Canterbury College        42     0.0   \n",
      "413825                                   Dubai Super Store        37     4.4   \n",
      "925255                           ◆シニア向け◆　ボケ防止のためのクイズゲーム 雑学        15     0.0   \n",
      "1215878                       Stockton R-1 School District        15     4.6   \n",
      "1070334                                     Miind Changers        15     0.0   \n",
      "\n",
      "         RatingCount  Installs  MinimumInstalls  MaximumInstalls  Price  Size  \\\n",
      "128037           0.0      10.0             10.0               22    0.0   32M   \n",
      "491755           9.0    1000.0           1000.0             1086    0.0   16M   \n",
      "491263           0.0      50.0             50.0               95    0.0   13M   \n",
      "836489         943.0  500000.0         500000.0           622301    0.0   14M   \n",
      "73349            6.0     100.0            100.0              423    0.0  2.1M   \n",
      "1166159          0.0      50.0             50.0               82    0.0  6.4M   \n",
      "413825          16.0     100.0            100.0              456    0.0   39M   \n",
      "925255           0.0     100.0            100.0              383    0.0  7.1M   \n",
      "1215878          5.0     500.0            500.0              558    0.0   12M   \n",
      "1070334          0.0       5.0              5.0                8    0.0   37M   \n",
      "\n",
      "             Released   LastUpdated  ContentRating  AdSupported  \\\n",
      "128037    Feb 9, 2019  Feb 09, 2019              1            1   \n",
      "491755   Dec 28, 2019  Sep 01, 2020              1            0   \n",
      "491263   Apr 12, 2019  Jul 29, 2019              1            1   \n",
      "836489    Oct 7, 2016  Aug 12, 2020              1            1   \n",
      "73349             NaN  Jun 09, 2021              1            0   \n",
      "1166159  Dec 16, 2017  Jan 04, 2018              1            0   \n",
      "413825    Jan 1, 2021  Jun 15, 2021              1            0   \n",
      "925255   Apr 21, 2020  Apr 26, 2020              1            1   \n",
      "1215878   Dec 4, 2017  Apr 05, 2021              1            0   \n",
      "1070334  Jul 14, 2020  Jun 10, 2021              1            1   \n",
      "\n",
      "         InAppPurchases  EditorsChoice  PriceRange  Type  RatingType  \\\n",
      "128037                0              0           0     0           1   \n",
      "491755                0              0           0     0           1   \n",
      "491263                1              0           0     0           1   \n",
      "836489                1              0           0     0           0   \n",
      "73349                 0              0           0     0           1   \n",
      "1166159               0              0           0     0           1   \n",
      "413825                0              0           0     0           1   \n",
      "925255                0              0           0     0           1   \n",
      "1215878               0              0           0     0           1   \n",
      "1070334               0              0           0     0           1   \n",
      "\n",
      "                 InstallRange  \n",
      "128037          Less than 10K  \n",
      "491755          Less than 10K  \n",
      "491263          Less than 10K  \n",
      "836489   Between 10K and 500K  \n",
      "73349           Less than 10K  \n",
      "1166159         Less than 10K  \n",
      "413825          Less than 10K  \n",
      "925255          Less than 10K  \n",
      "1215878         Less than 10K  \n",
      "1070334         Less than 10K  \n"
     ]
    }
   ],
   "source": [
    "labelEncoder = LabelEncoder()\n",
    "\n",
    "labelEncoder.fit(df['Category'])\n",
    "df['Category'] = labelEncoder.transform(df['Category'])\n",
    "labelEncoder.fit(df['Type'])\n",
    "df['Type'] = labelEncoder.transform(df['Type'])\n",
    "labelEncoder.fit(df['ContentRating'])\n",
    "df['ContentRating'] = labelEncoder.transform(df['ContentRating'])\n",
    "labelEncoder.fit(df['AdSupported'])\n",
    "df['AdSupported'] = labelEncoder.transform(df['AdSupported'])\n",
    "labelEncoder.fit(df['EditorsChoice'])\n",
    "df['EditorsChoice'] = labelEncoder.transform(df['EditorsChoice'])\n",
    "labelEncoder.fit(df['InAppPurchases'])\n",
    "df['InAppPurchases'] = labelEncoder.transform(df['InAppPurchases'])\n",
    "labelEncoder.fit(df['RatingType'])\n",
    "df['RatingType'] = labelEncoder.transform(df['RatingType'])\n",
    "labelEncoder.fit(df['PriceRange'])\n",
    "df['PriceRange'] = labelEncoder.transform(df['PriceRange'])\n",
    "labelEncoder.fit(df['InstallRange'])\n",
    "df['RatingType'] = labelEncoder.transform(df['InstallRange'])\n",
    "\n",
    "print(df.head(10))"
   ]
  }
 ],
 "metadata": {
  "kernelspec": {
   "display_name": "Python 3 (ipykernel)",
   "language": "python",
   "name": "python3"
  },
  "language_info": {
   "codemirror_mode": {
    "name": "ipython",
    "version": 3
   },
   "file_extension": ".py",
   "mimetype": "text/x-python",
   "name": "python",
   "nbconvert_exporter": "python",
   "pygments_lexer": "ipython3",
   "version": "3.9.7"
  }
 },
 "nbformat": 4,
 "nbformat_minor": 5
}
